{
 "cells": [
  {
   "cell_type": "code",
   "execution_count": null,
   "metadata": {},
   "outputs": [],
   "source": [
    "# https://medium.com/@jebaseelanravi96/machine-learning-iris-classification-33aa18a4a983\n",
    "# Get / work with the data\n",
    "import numpy as np\n",
    "import pandas as pd\n",
    "\n",
    "input_file = \"<data file goes here>\"\n",
    "\n",
    "iris_df = pd.read_csv(input_file, header = 0)\n",
    "iris_df.head()\n"
   ]
  },
  {
   "cell_type": "code",
   "execution_count": null,
   "metadata": {},
   "outputs": [],
   "source": [
    "# warning 'color' is a categorical calue\n",
    "feature_cols = ['SepalLengthCm', 'SepalWidthCm', 'PetalLengthCm','PetalWidthCm','color']\n",
    "\n",
    "x = iris_df.loc[:, feature_cols]\n",
    "y = iris_df.Species\n",
    "\n",
    "\n",
    "from sklearn.model_selection import GridSearchCV, train_test_split\n",
    "\n",
    "# here we're splitting the data into train and test sets\n",
    "x_train,x_test,y_train,y_test=train_test_split(x,y,test_size=.5)\n",
    "\n",
    "from sklearn import tree\n",
    "\n",
    "\n",
    "classifier=tree.DecisionTreeClassifier()\n",
    "\n",
    "# here we're training\n",
    "classifier.fit(x_train,y_train)\n",
    "predictions=classifier.predict(x_test)\n",
    "\n",
    "# How did we do?\n",
    "from sklearn.metrics import accuracy_score\n",
    "print(accuracy_score(y_test,predictions))\n"
   ]
  },
  {
   "cell_type": "code",
   "execution_count": null,
   "metadata": {},
   "outputs": [],
   "source": [
    "# FYI Here are the params you can tune for the DecisionTreeClassifier:\n",
    "# param_dict = {\n",
    "#     \"criterion\":['gini','entropy'],\n",
    "#     \"max_depth\":range(1,10),\n",
    "#     \"min_samples_split\":range(2,10),\n",
    "#     \"min_samples_leaf\":range(1,5),\n",
    "# }"
   ]
  }
 ],
 "metadata": {
  "kernelspec": {
   "display_name": "Python 3",
   "language": "python",
   "name": "python3"
  },
  "language_info": {
   "codemirror_mode": {
    "name": "ipython",
    "version": 3
   },
   "file_extension": ".py",
   "mimetype": "text/x-python",
   "name": "python",
   "nbconvert_exporter": "python",
   "pygments_lexer": "ipython3",
   "version": "3.6.7"
  }
 },
 "nbformat": 4,
 "nbformat_minor": 2
}
