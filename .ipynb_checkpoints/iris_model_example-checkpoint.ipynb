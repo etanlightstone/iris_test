{
 "cells": [
  {
   "cell_type": "code",
   "execution_count": 4,
   "metadata": {},
   "outputs": [],
   "source": [
    "# https://medium.com/@jebaseelanravi96/machine-learning-iris-classification-33aa18a4a983\n",
    "\n",
    "\n",
    "import numpy as np\n",
    "import pandas as pd\n",
    "\n",
    "input_file = \"iris_orig.csv\"\n",
    "\n",
    "iris_df = pd.read_csv(input_file, header = 0)\n",
    "iris_df.head()\n",
    "\n",
    "# I will likely pollute the data a bit and have them do some kind of data cleaning, right now its clean though\n",
    "# I also want to introduce a \"categorical\" feature like color, just to force them to \n",
    "# encode it / do a tiny bit of data transforming\n",
    "# data.isnull()\n",
    "\n",
    "feature_cols = ['SepalLengthCm', 'SepalWidthCm', 'PetalLengthCm','PetalWidthCm']\n",
    "\n",
    "\n",
    "\n",
    "x = iris_df.loc[:, feature_cols]\n",
    "x.shape\n",
    "y = iris_df.Species"
   ]
  },
  {
   "cell_type": "code",
   "execution_count": 5,
   "metadata": {},
   "outputs": [
    {
     "name": "stdout",
     "output_type": "stream",
     "text": [
      "0.9466666666666667\n"
     ]
    }
   ],
   "source": [
    "\n",
    "\n",
    "from sklearn.model_selection import GridSearchCV,train_test_split\n",
    "\n",
    "x_train,x_test,y_train,y_test=train_test_split(x,y,test_size=.5)\n",
    "\n",
    "from sklearn import tree\n",
    "\n",
    "\n",
    "classifier=tree.DecisionTreeClassifier()\n",
    "\n",
    "\n",
    "classifier.fit(x_train,y_train)\n",
    "predictions=classifier.predict(x_test)\n",
    "from sklearn.metrics import accuracy_score\n",
    "print(accuracy_score(y_test,predictions))"
   ]
  },
  {
   "cell_type": "code",
   "execution_count": 11,
   "metadata": {},
   "outputs": [
    {
     "name": "stdout",
     "output_type": "stream",
     "text": [
      "Fitting 10 folds for each of 576 candidates, totalling 5760 fits\n"
     ]
    },
    {
     "name": "stderr",
     "output_type": "stream",
     "text": [
      "[Parallel(n_jobs=-1)]: Done 484 tasks      | elapsed:    2.3s\n",
      "[Parallel(n_jobs=-1)]: Done 4384 tasks      | elapsed:   12.7s\n",
      "[Parallel(n_jobs=-1)]: Done 5760 out of 5760 | elapsed:   15.5s finished\n"
     ]
    },
    {
     "data": {
      "text/plain": [
       "GridSearchCV(cv=10, error_score='raise',\n",
       "       estimator=DecisionTreeClassifier(class_weight=None, criterion='gini', max_depth=None,\n",
       "            max_features=None, max_leaf_nodes=None,\n",
       "            min_impurity_decrease=0.0, min_impurity_split=None,\n",
       "            min_samples_leaf=1, min_samples_split=2,\n",
       "            min_weight_fraction_leaf=0.0, presort=False, random_state=None,\n",
       "            splitter='best'),\n",
       "       fit_params=None, iid=True, n_jobs=-1,\n",
       "       param_grid={'criterion': ['gini', 'entropy'], 'max_depth': range(1, 10), 'min_samples_split': range(2, 10), 'min_samples_leaf': range(1, 5)},\n",
       "       pre_dispatch='2*n_jobs', refit=True, return_train_score='warn',\n",
       "       scoring=None, verbose=1)"
      ]
     },
     "execution_count": 11,
     "metadata": {},
     "output_type": "execute_result"
    }
   ],
   "source": [
    "# Now let's encourage an optimization workflow here, somehow can we coach them to track this via jobs?\n",
    "# I found some pointers on optimizing a decision tree here \n",
    "# https://ai.plainenglish.io/hyperparameter-tuning-of-decision-tree-classifier-using-gridsearchcv-2a6ebcaffeda\n",
    "\n",
    "\n",
    "\n",
    "param_dict = {\n",
    "    \"criterion\":['gini','entropy'],\n",
    "    \"max_depth\":range(1,10),\n",
    "    \"min_samples_split\":range(2,10),\n",
    "    \"min_samples_leaf\":range(1,5),\n",
    "}\n",
    "# (imported  GridSearchCV already in previous cell)\n",
    "grid = GridSearchCV(classifier,\n",
    "                       param_grid=param_dict,\n",
    "                       cv=10,\n",
    "                       verbose=1,\n",
    "                       n_jobs=-1)\n",
    "\n",
    "# note this kind of seems like its working but then there's an error? I can't tell.\n",
    "grid.fit(x_train,y_train)"
   ]
  },
  {
   "cell_type": "code",
   "execution_count": null,
   "metadata": {},
   "outputs": [],
   "source": []
  },
  {
   "cell_type": "code",
   "execution_count": null,
   "metadata": {},
   "outputs": [],
   "source": []
  }
 ],
 "metadata": {
  "kernelspec": {
   "display_name": "Python 3",
   "language": "python",
   "name": "python3"
  },
  "language_info": {
   "codemirror_mode": {
    "name": "ipython",
    "version": 3
   },
   "file_extension": ".py",
   "mimetype": "text/x-python",
   "name": "python",
   "nbconvert_exporter": "python",
   "pygments_lexer": "ipython3",
   "version": "3.6.7"
  }
 },
 "nbformat": 4,
 "nbformat_minor": 2
}
